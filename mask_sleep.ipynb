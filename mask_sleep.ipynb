{
 "cells": [
  {
   "cell_type": "code",
   "execution_count": 1,
   "id": "28300cb1-1f4d-4984-b8c6-1bb1b4215077",
   "metadata": {},
   "outputs": [],
   "source": [
    "import cv2\n",
    "import numpy as np\n",
    "import pandas as pd\n",
    "import mediapipe as mp\n",
    "from playsound import playsound\n"
   ]
  },
  {
   "cell_type": "code",
   "execution_count": 3,
   "id": "4cfc6c09-9d8f-4d18-b637-fc39c52dc0ad",
   "metadata": {},
   "outputs": [],
   "source": [
    "# Wheather person sleeping/unsleeping Project \n",
    "def sleepy_yawn():\n",
    "    video = cv2.VideoCapture(0)\n",
    "    # face is module\n",
    "    EAR_THRESHOLD = 0.21\n",
    "    while True:\n",
    "        b,frame = video.read()\n",
    "        \n",
    "        face = mp.solutions.face_mesh\n",
    "        face_mesh_model = face.FaceMesh(static_image_mode = False ,\n",
    "                      max_num_faces = 1,\n",
    "                      refine_landmarks = False,\n",
    "                      min_detection_confidence = 0.5,\n",
    "                      min_tracking_confidence = 0.5 \n",
    "                     )\n",
    "        rgb_img = cv2.cvtColor(frame,cv2.COLOR_BGR2RGB)\n",
    "        result = face_mesh_model.process(rgb_img)\n",
    "        mp.solutions.drawing_utils.draw_landmarks(image = frame,\n",
    "                                                  landmark_list = result.multi_face_landmarks[0],\n",
    "                                                  connections = face.FACEMESH_TESSELATION,landmark_drawing_spec = None,\n",
    "                                                  connection_drawing_spec = mp.solutions.drawing_styles.get_default_face_mesh_tesselation_style()\n",
    "                                                 ) \n",
    "        def get_point(landmarks, idx):\n",
    "            return np.array([landmarks[idx].x, landmarks[idx].y])\n",
    "    \n",
    "        landmarks = result.multi_face_landmarks[0].landmark\n",
    "        \n",
    "        # Left Eye EAR\n",
    "        p1, p2, p3, p4, p5, p6 = 362, 385, 387, 263, 373, 380\n",
    "        A = np.linalg.norm(get_point(landmarks, p2) - get_point(landmarks, p6))\n",
    "        B = np.linalg.norm(get_point(landmarks, p3) - get_point(landmarks, p5))\n",
    "        C = np.linalg.norm(get_point(landmarks, p1) - get_point(landmarks, p4))\n",
    "        EAR_left = (A + B) / (2.0 * C)\n",
    "        \n",
    "        # Right Eye EAR\n",
    "        p1, p2, p3, p4, p5, p6 = 33, 160, 158, 133, 153, 144\n",
    "        A = np.linalg.norm(get_point(landmarks, p2) - get_point(landmarks, p6))\n",
    "        B = np.linalg.norm(get_point(landmarks, p3) - get_point(landmarks, p5))\n",
    "        C = np.linalg.norm(get_point(landmarks, p1) - get_point(landmarks, p4))\n",
    "        EAR_right = (A + B) / (2.0 * C)\n",
    "        avg_EAR = (EAR_left + EAR_right) / 2.0\n",
    "                                                                     \n",
    "        if avg_EAR < EAR_THRESHOLD:\n",
    "             playsound('data_sets/Alarm or Warning   Sound effect #23.mp3')\n",
    "        \n",
    "    \n",
    "        cv2.imshow(\"Eye Monitor\", frame)\n",
    "    \n",
    "        if cv2.waitKey(1) & 0xFF == ord('q'):\n",
    "            break\n",
    "    \n",
    "    video.release()\n",
    "    cv2.destroyAllWindows()\n",
    "sleepy_yawn()    "
   ]
  },
  {
   "cell_type": "code",
   "execution_count": null,
   "id": "ca780018-1d0b-4b36-aee4-18dd67fcb64d",
   "metadata": {},
   "outputs": [],
   "source": []
  }
 ],
 "metadata": {
  "kernelspec": {
   "display_name": "Python 3 (ipykernel)",
   "language": "python",
   "name": "python3"
  },
  "language_info": {
   "codemirror_mode": {
    "name": "ipython",
    "version": 3
   },
   "file_extension": ".py",
   "mimetype": "text/x-python",
   "name": "python",
   "nbconvert_exporter": "python",
   "pygments_lexer": "ipython3",
   "version": "3.12.7"
  }
 },
 "nbformat": 4,
 "nbformat_minor": 5
}
